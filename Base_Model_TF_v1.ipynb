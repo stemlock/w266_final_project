{
 "cells": [
  {
   "cell_type": "markdown",
   "metadata": {},
   "source": [
    "This workbook follows the example here: https://huggingface.co/transformers/custom_datasets.html?highlight=sequence#seq-imdb\n",
    "\n",
    "Can download the data directly from Stanford website with the following two commands:\n",
    "wget http://ai.stanford.edu/~amaas/data/sentiment/aclImdb_v1.tar.gz\n",
    "tar -xf aclImdb_v1.tar.gz"
   ]
  },
  {
   "cell_type": "code",
   "execution_count": 1,
   "metadata": {},
   "outputs": [],
   "source": [
    "# Imports\n",
    "import random\n",
    "\n",
    "import pandas as pd\n",
    "import matplotlib.pyplot as plt\n",
    "from sklearn.model_selection import train_test_split\n",
    "\n",
    "import tensorflow as tf\n",
    "from transformers import DistilBertTokenizerFast, TFDistilBertForSequenceClassification, TFTrainer, TFTrainingArguments"
   ]
  },
  {
   "cell_type": "code",
   "execution_count": 2,
   "metadata": {},
   "outputs": [],
   "source": [
    "# Set random seed\n",
    "seed = random.seed(42)"
   ]
  },
  {
   "cell_type": "code",
   "execution_count": 3,
   "metadata": {},
   "outputs": [
    {
     "name": "stdout",
     "output_type": "stream",
     "text": [
      "Parsing data...\n",
      "Parsing vocab lists...\n",
      "Creating vocab mappings...\n",
      "Processing neutral review dataset...\n",
      "Processing female gendered review dataset...\n",
      "Processing male gendered review dataset...\n",
      "Saved new dataset to /Users/samuelguytemlock/Documents/MIDS/Courses/Fall_2021/W266/final_project/data/processed_train.csv\n",
      "Parsing data...\n",
      "Parsing vocab lists...\n",
      "Creating vocab mappings...\n",
      "Processing neutral review dataset...\n",
      "Processing female gendered review dataset...\n",
      "Processing male gendered review dataset...\n",
      "Saved new dataset to /Users/samuelguytemlock/Documents/MIDS/Courses/Fall_2021/W266/final_project/data/processed_test.csv\n"
     ]
    }
   ],
   "source": [
    "# Preprocess data in script to create neutral and gendered versions\n",
    "!python3 preprocess.py -d 'data/aclImdb/train/' -v 'wordlist/' -o 'data/processed_train.csv'\n",
    "!python3 preprocess.py -d 'data/aclImdb/test/' -v 'wordlist/' -o 'data/processed_test.csv'"
   ]
  },
  {
   "cell_type": "code",
   "execution_count": 4,
   "metadata": {},
   "outputs": [
    {
     "data": {
      "text/html": [
       "<div>\n",
       "<style scoped>\n",
       "    .dataframe tbody tr th:only-of-type {\n",
       "        vertical-align: middle;\n",
       "    }\n",
       "\n",
       "    .dataframe tbody tr th {\n",
       "        vertical-align: top;\n",
       "    }\n",
       "\n",
       "    .dataframe thead th {\n",
       "        text-align: right;\n",
       "    }\n",
       "</style>\n",
       "<table border=\"1\" class=\"dataframe\">\n",
       "  <thead>\n",
       "    <tr style=\"text-align: right;\">\n",
       "      <th></th>\n",
       "      <th>review_id</th>\n",
       "      <th>review_score</th>\n",
       "      <th>review_text</th>\n",
       "      <th>neutral_review_text</th>\n",
       "      <th>female_review_text</th>\n",
       "      <th>male_review_text</th>\n",
       "      <th>label</th>\n",
       "    </tr>\n",
       "  </thead>\n",
       "  <tbody>\n",
       "    <tr>\n",
       "      <th>0</th>\n",
       "      <td>4715</td>\n",
       "      <td>9</td>\n",
       "      <td>For a movie that gets no respect there sure ar...</td>\n",
       "      <td>NaN</td>\n",
       "      <td>for a movie that gets no respect there sure ar...</td>\n",
       "      <td>for a movie that gets no respect there sure ar...</td>\n",
       "      <td>1</td>\n",
       "    </tr>\n",
       "    <tr>\n",
       "      <th>1</th>\n",
       "      <td>12390</td>\n",
       "      <td>8</td>\n",
       "      <td>Bizarre horror movie filled with famous faces ...</td>\n",
       "      <td>bizarre horror movie filled with famous faces ...</td>\n",
       "      <td>bizarre horror movie filled with famous faces ...</td>\n",
       "      <td>bizarre horror movie filled with famous faces ...</td>\n",
       "      <td>1</td>\n",
       "    </tr>\n",
       "    <tr>\n",
       "      <th>2</th>\n",
       "      <td>8329</td>\n",
       "      <td>7</td>\n",
       "      <td>A solid, if unremarkable film. Matthau, as Ein...</td>\n",
       "      <td>NaN</td>\n",
       "      <td>a solid, if unremarkable film. matthau, as ein...</td>\n",
       "      <td>a solid, if unremarkable film. matthau, as ein...</td>\n",
       "      <td>1</td>\n",
       "    </tr>\n",
       "    <tr>\n",
       "      <th>3</th>\n",
       "      <td>9063</td>\n",
       "      <td>8</td>\n",
       "      <td>It's a strange feeling to sit alone in a theat...</td>\n",
       "      <td>it's a strange feeling to sit alone in a theat...</td>\n",
       "      <td>it's a strange feeling to sit alone in a theat...</td>\n",
       "      <td>it's a strange feeling to sit alone in a theat...</td>\n",
       "      <td>1</td>\n",
       "    </tr>\n",
       "    <tr>\n",
       "      <th>4</th>\n",
       "      <td>3092</td>\n",
       "      <td>10</td>\n",
       "      <td>You probably all already know this by now, but...</td>\n",
       "      <td>you probably all already know this by now, but...</td>\n",
       "      <td>you probably all already know this by now, but...</td>\n",
       "      <td>you probably all already know this by now, but...</td>\n",
       "      <td>1</td>\n",
       "    </tr>\n",
       "  </tbody>\n",
       "</table>\n",
       "</div>"
      ],
      "text/plain": [
       "   review_id  review_score                                        review_text  \\\n",
       "0       4715             9  For a movie that gets no respect there sure ar...   \n",
       "1      12390             8  Bizarre horror movie filled with famous faces ...   \n",
       "2       8329             7  A solid, if unremarkable film. Matthau, as Ein...   \n",
       "3       9063             8  It's a strange feeling to sit alone in a theat...   \n",
       "4       3092            10  You probably all already know this by now, but...   \n",
       "\n",
       "                                 neutral_review_text  \\\n",
       "0                                                NaN   \n",
       "1  bizarre horror movie filled with famous faces ...   \n",
       "2                                                NaN   \n",
       "3  it's a strange feeling to sit alone in a theat...   \n",
       "4  you probably all already know this by now, but...   \n",
       "\n",
       "                                  female_review_text  \\\n",
       "0  for a movie that gets no respect there sure ar...   \n",
       "1  bizarre horror movie filled with famous faces ...   \n",
       "2  a solid, if unremarkable film. matthau, as ein...   \n",
       "3  it's a strange feeling to sit alone in a theat...   \n",
       "4  you probably all already know this by now, but...   \n",
       "\n",
       "                                    male_review_text  label  \n",
       "0  for a movie that gets no respect there sure ar...      1  \n",
       "1  bizarre horror movie filled with famous faces ...      1  \n",
       "2  a solid, if unremarkable film. matthau, as ein...      1  \n",
       "3  it's a strange feeling to sit alone in a theat...      1  \n",
       "4  you probably all already know this by now, but...      1  "
      ]
     },
     "execution_count": 4,
     "metadata": {},
     "output_type": "execute_result"
    }
   ],
   "source": [
    "# Read in processed data\n",
    "df_train = pd.read_csv('data/processed_train.csv')\n",
    "df_test = pd.read_csv('data/processed_test.csv')\n",
    "df_train.head()"
   ]
  },
  {
   "cell_type": "code",
   "execution_count": 5,
   "metadata": {},
   "outputs": [
    {
     "name": "stdout",
     "output_type": "stream",
     "text": [
      "Nongendered revies in train: 4119\n",
      "Nongendered revies in test: 4172\n"
     ]
    }
   ],
   "source": [
    "# Check how many reviews had no replacement tokens\n",
    "print(\"Nongendered revies in train:\", df_train['neutral_review_text'].isna().sum())\n",
    "print(\"Nongendered revies in test:\", df_test['neutral_review_text'].isna().sum())"
   ]
  },
  {
   "cell_type": "code",
   "execution_count": 6,
   "metadata": {},
   "outputs": [],
   "source": [
    "# Isolate the nongendered reviews \n",
    "df_nongendered = df_train[df_train['neutral_review_text'].isna()]"
   ]
  },
  {
   "cell_type": "code",
   "execution_count": 7,
   "metadata": {},
   "outputs": [
    {
     "data": {
      "text/plain": [
       "1     0.20400\n",
       "10    0.18928\n",
       "8     0.12036\n",
       "4     0.10784\n",
       "7     0.09984\n",
       "3     0.09680\n",
       "2     0.09136\n",
       "9     0.09052\n",
       "Name: review_score, dtype: float64"
      ]
     },
     "execution_count": 7,
     "metadata": {},
     "output_type": "execute_result"
    }
   ],
   "source": [
    "# Check the balance of review scores in the original train set\n",
    "df_train['review_score'].value_counts()/len(df_train['review_score'])"
   ]
  },
  {
   "cell_type": "code",
   "execution_count": 8,
   "metadata": {},
   "outputs": [
    {
     "data": {
      "text/plain": [
       "1     0.251517\n",
       "10    0.237679\n",
       "8     0.097354\n",
       "9     0.092498\n",
       "2     0.090070\n",
       "4     0.088128\n",
       "3     0.079145\n",
       "7     0.063608\n",
       "Name: review_score, dtype: float64"
      ]
     },
     "execution_count": 8,
     "metadata": {},
     "output_type": "execute_result"
    }
   ],
   "source": [
    "# Check the balance of review scores in the nongendered reviews\n",
    "df_nongendered['review_score'].value_counts()/len(df_nongendered['review_score'])"
   ]
  },
  {
   "cell_type": "code",
   "execution_count": 9,
   "metadata": {},
   "outputs": [
    {
     "data": {
      "image/png": "[encoded data removed]",
      "text/plain": [
       "<Figure size 432x288 with 1 Axes>"
      ]
     },
     "metadata": {
      "needs_background": "light"
     },
     "output_type": "display_data"
    }
   ],
   "source": [
    "# Check the distribution of the review scores in train\n",
    "df_train.hist(column='review_score')\n",
    "plt.title(\"Histogram of review scores in train dataset\")\n",
    "plt.show()"
   ]
  },
  {
   "cell_type": "code",
   "execution_count": 10,
   "metadata": {},
   "outputs": [
    {
     "data": {
      "image/png": "[encoded data removed]",
      "text/plain": [
       "<Figure size 432x288 with 1 Axes>"
      ]
     },
     "metadata": {
      "needs_background": "light"
     },
     "output_type": "display_data"
    }
   ],
   "source": [
    "# Check the distribution of the review scores in nongendered reviews\n",
    "df_nongendered.hist(column='review_score')\n",
    "plt.title(\"Histogram of review scores in nongendered subset\")\n",
    "plt.show()"
   ]
  },
  {
   "cell_type": "code",
   "execution_count": 11,
   "metadata": {},
   "outputs": [
    {
     "name": "stdout",
     "output_type": "stream",
     "text": [
      "Number of rows left in train: 20881\n",
      "Class balance:\n",
      "1    10477\n",
      "0    10404\n",
      "Name: label, dtype: int64\n"
     ]
    }
   ],
   "source": [
    "# Drop all nongendered rows in train\n",
    "df_train.dropna(inplace=True)\n",
    "print(\"Number of rows left in train:\", df_train.shape[0])\n",
    "print(\"Class balance:\")\n",
    "print(df_train['label'].value_counts())"
   ]
  },
  {
   "cell_type": "code",
   "execution_count": 12,
   "metadata": {},
   "outputs": [
    {
     "name": "stdout",
     "output_type": "stream",
     "text": [
      "Number of rows left in test: 20828\n",
      "Class balance:\n",
      "0    10471\n",
      "1    10357\n",
      "Name: label, dtype: int64\n"
     ]
    }
   ],
   "source": [
    "# Drop all nongendered rows in test\n",
    "df_test.dropna(inplace=True)\n",
    "print(\"Number of rows left in test:\", df_test.shape[0])\n",
    "print(\"Class balance:\")\n",
    "print(df_test['label'].value_counts())"
   ]
  },
  {
   "cell_type": "code",
   "execution_count": 13,
   "metadata": {},
   "outputs": [],
   "source": [
    "# Load data\n",
    "train_texts = df_train['review_text'].values.tolist()\n",
    "n_train_texts = df_train['neutral_review_text'].values.tolist()\n",
    "f_train_texts = df_train['female_review_text'].values.tolist()\n",
    "m_train_texts = df_train['male_review_text'].values.tolist()\n",
    "train_labels = df_train['label'].values.tolist()\n",
    "\n",
    "test_texts = df_test['review_text'].values.tolist()\n",
    "n_test_texts = df_test['neutral_review_text'].values.tolist()\n",
    "f_test_texts = df_test['female_review_text'].values.tolist()\n",
    "m_test_texts = df_test['male_review_text'].values.tolist()\n",
    "test_labels = df_test['label'].values.tolist()"
   ]
  },
  {
   "cell_type": "code",
   "execution_count": 14,
   "metadata": {},
   "outputs": [],
   "source": [
    "# Create dev set from portion of train set\n",
    "dev_texts, test_texts, _, _ = train_test_split(test_texts, test_labels, test_size=.5, random_state=seed)\n",
    "n_dev_texts, n_test_texts, _, _ = train_test_split(n_test_texts, test_labels, test_size=.5, random_state=seed)\n",
    "f_dev_texts, f_test_texts, _, _ = train_test_split(f_test_texts, test_labels, test_size=.5, random_state=seed)\n",
    "m_dev_texts, m_test_texts, dev_labels, test_labels = train_test_split(m_test_texts, test_labels, \n",
    "                                                                        test_size=.5, random_state=seed)"
   ]
  },
  {
   "cell_type": "code",
   "execution_count": 15,
   "metadata": {},
   "outputs": [],
   "source": [
    "# Specify tokenizer and apply to each dataset\n",
    "tokenizer = DistilBertTokenizerFast.from_pretrained('distilbert-base-uncased')\n",
    "\n",
    "train_encodings = tokenizer(train_texts, truncation=True, padding=True)\n",
    "dev_encodings = tokenizer(dev_texts, truncation=True, padding=True)\n",
    "test_encodings = tokenizer(test_texts, truncation=True, padding=True)"
   ]
  },
  {
   "cell_type": "code",
   "execution_count": 16,
   "metadata": {},
   "outputs": [],
   "source": [
    "# Turn encodings into datasets for easy batching\n",
    "train_dataset = tf.data.Dataset.from_tensor_slices((\n",
    "    dict(train_encodings),\n",
    "    train_labels\n",
    "))\n",
    "dev_dataset = tf.data.Dataset.from_tensor_slices((\n",
    "    dict(dev_encodings),\n",
    "    dev_labels\n",
    "))\n",
    "test_dataset = tf.data.Dataset.from_tensor_slices((\n",
    "    dict(test_encodings),\n",
    "    test_labels\n",
    "))"
   ]
  },
  {
   "cell_type": "code",
   "execution_count": null,
   "metadata": {},
   "outputs": [],
   "source": [
    "# # Fine tune with Trainer\n",
    "# training_args = TFTrainingArguments(\n",
    "#     output_dir='./results',          # output directory\n",
    "#     num_train_epochs=3,              # total number of training epochs\n",
    "#     per_device_train_batch_size=16,  # batch size per device during training\n",
    "#     per_device_eval_batch_size=64,   # batch size for evaluation\n",
    "#     warmup_steps=500,                # number of warmup steps for learning rate scheduler\n",
    "#     weight_decay=0.01,               # strength of weight decay\n",
    "#     logging_steps=1,\n",
    "#     eval_steps=500\n",
    "# )\n",
    "\n",
    "# with training_args.strategy.scope():\n",
    "#     model = TFDistilBertForSequenceClassification.from_pretrained(\"distilbert-base-uncased\")\n",
    "\n",
    "# trainer = TFTrainer(\n",
    "#     model=model,                         # the instantiated model to be trained\n",
    "#     args=training_args,                  # training arguments, defined above\n",
    "#     train_dataset=train_dataset,         # training dataset\n",
    "#     eval_dataset=dev_dataset             # evaluation dataset\n",
    "# )\n",
    "\n",
    "# trainer.train()"
   ]
  },
  {
   "cell_type": "code",
   "execution_count": null,
   "metadata": {},
   "outputs": [],
   "source": [
    "model = TFDistilBertForSequenceClassification.from_pretrained('distilbert-base-uncased')\n",
    "\n",
    "optimizer = tf.keras.optimizers.Adam(learning_rate=5e-5)\n",
    "model.compile(optimizer=optimizer, loss=model.compute_loss) # can also use any keras loss fn\n",
    "model.fit(train_dataset.shuffle(1000).batch(16), epochs=3, batch_size=16)"
   ]
  },
  {
   "cell_type": "code",
   "execution_count": null,
   "metadata": {},
   "outputs": [],
   "source": [
    "model.evaluate(dev_dataste.shuffle(1000).batch(16), batch_size=16)"
   ]
  },
  {
   "cell_type": "code",
   "execution_count": null,
   "metadata": {},
   "outputs": [],
   "source": [
    "model.save_model(\"original_base_model\")\n",
    "tokenizer.save_pretrained(\"original_tokenizer\")"
   ]
  }
 ],
 "metadata": {
  "kernelspec": {
   "display_name": "Python 3",
   "language": "python",
   "name": "python3"
  },
  "language_info": {
   "codemirror_mode": {
    "name": "ipython",
    "version": 3
   },
   "file_extension": ".py",
   "mimetype": "text/x-python",
   "name": "python",
   "nbconvert_exporter": "python",
   "pygments_lexer": "ipython3",
   "version": "3.7.7"
  }
 },
 "nbformat": 4,
 "nbformat_minor": 4
}
