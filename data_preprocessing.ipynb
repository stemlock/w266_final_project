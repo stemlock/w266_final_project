{
 "cells": [
  {
   "cell_type": "code",
   "execution_count": 1,
   "metadata": {},
   "outputs": [],
   "source": [
    "# Import libraries\n",
    "import os\n",
    "from pathlib import Path\n",
    "from collections import Counter\n",
    "import re\n",
    "import random\n",
    "\n",
    "import pandas as pd\n",
    "import numpy as np\n",
    "\n",
    "from helper import preprocessing as pre"
   ]
  },
  {
   "cell_type": "code",
   "execution_count": 2,
   "metadata": {},
   "outputs": [],
   "source": [
    "# Import data and process into usable format\n",
    "data_list = []\n",
    "\n",
    "for p in Path('./data/aclImdb/train/neg').glob('*.txt'):\n",
    "    with p.open() as f:\n",
    "        file_name = re.split('_|\\.', p.name)\n",
    "        review_id = file_name[0]\n",
    "        review_score = int(file_name[1])\n",
    "        # append review id, review score, review text, and binary label (0 = negative)\n",
    "        data_list.append([review_id, review_score, f.read(), 0])\n",
    "\n",
    "for p in Path('./data/aclImdb/train/pos').glob('*.txt'):\n",
    "    with p.open() as f:\n",
    "        file_name = re.split('_|\\.', p.name)\n",
    "        review_id = file_name[0]\n",
    "        review_score = int(file_name[1])\n",
    "        # append review id, review score, review text, and binary label (1 = positive)\n",
    "        data_list.append([review_id, review_score, f.read(), 1])\n",
    "\n",
    "df = pd.DataFrame(data_list, columns = ['review_id', 'review_score', 'review_text', 'label'])"
   ]
  },
  {
   "cell_type": "code",
   "execution_count": 3,
   "metadata": {},
   "outputs": [
    {
     "name": "stdout",
     "output_type": "stream",
     "text": [
      "Shape: (25000, 4)\n"
     ]
    },
    {
     "data": {
      "text/html": [
       "<div>\n",
       "<style scoped>\n",
       "    .dataframe tbody tr th:only-of-type {\n",
       "        vertical-align: middle;\n",
       "    }\n",
       "\n",
       "    .dataframe tbody tr th {\n",
       "        vertical-align: top;\n",
       "    }\n",
       "\n",
       "    .dataframe thead th {\n",
       "        text-align: right;\n",
       "    }\n",
       "</style>\n",
       "<table border=\"1\" class=\"dataframe\">\n",
       "  <thead>\n",
       "    <tr style=\"text-align: right;\">\n",
       "      <th></th>\n",
       "      <th>review_id</th>\n",
       "      <th>review_score</th>\n",
       "      <th>review_text</th>\n",
       "      <th>label</th>\n",
       "    </tr>\n",
       "  </thead>\n",
       "  <tbody>\n",
       "    <tr>\n",
       "      <th>0</th>\n",
       "      <td>1821</td>\n",
       "      <td>4</td>\n",
       "      <td>Working with one of the best Shakespeare sourc...</td>\n",
       "      <td>0</td>\n",
       "    </tr>\n",
       "    <tr>\n",
       "      <th>1</th>\n",
       "      <td>10402</td>\n",
       "      <td>1</td>\n",
       "      <td>Well...tremors I, the original started off in ...</td>\n",
       "      <td>0</td>\n",
       "    </tr>\n",
       "    <tr>\n",
       "      <th>2</th>\n",
       "      <td>1062</td>\n",
       "      <td>4</td>\n",
       "      <td>Ouch! This one was a bit painful to sit throug...</td>\n",
       "      <td>0</td>\n",
       "    </tr>\n",
       "    <tr>\n",
       "      <th>3</th>\n",
       "      <td>9056</td>\n",
       "      <td>1</td>\n",
       "      <td>I've seen some crappy movies in my life, but t...</td>\n",
       "      <td>0</td>\n",
       "    </tr>\n",
       "    <tr>\n",
       "      <th>4</th>\n",
       "      <td>5392</td>\n",
       "      <td>3</td>\n",
       "      <td>\"Carriers\" follows the exploits of two guys an...</td>\n",
       "      <td>0</td>\n",
       "    </tr>\n",
       "  </tbody>\n",
       "</table>\n",
       "</div>"
      ],
      "text/plain": [
       "  review_id  review_score                                        review_text  \\\n",
       "0      1821             4  Working with one of the best Shakespeare sourc...   \n",
       "1     10402             1  Well...tremors I, the original started off in ...   \n",
       "2      1062             4  Ouch! This one was a bit painful to sit throug...   \n",
       "3      9056             1  I've seen some crappy movies in my life, but t...   \n",
       "4      5392             3  \"Carriers\" follows the exploits of two guys an...   \n",
       "\n",
       "   label  \n",
       "0      0  \n",
       "1      0  \n",
       "2      0  \n",
       "3      0  \n",
       "4      0  "
      ]
     },
     "execution_count": 3,
     "metadata": {},
     "output_type": "execute_result"
    }
   ],
   "source": [
    "# Examine data\n",
    "print(\"Shape:\", df.shape)\n",
    "df.head()"
   ]
  },
  {
   "cell_type": "code",
   "execution_count": 4,
   "metadata": {},
   "outputs": [],
   "source": [
    "# Define paths\n",
    "CWD = os.getcwd()\n",
    "WORDLISTS = 'wordlist'\n",
    "\n",
    "\n",
    "with open(os.path.join(CWD, WORDLISTS, 'female_word_file.txt')) as file:\n",
    "    f_vocab = []\n",
    "    for w in file.read().split():\n",
    "        f = w.replace('_', ' ')\n",
    "        f_vocab.append(f)\n",
    "    \n",
    "with open(os.path.join(CWD, WORDLISTS, 'male_word_file.txt')) as file:\n",
    "    m_vocab = []\n",
    "    for w in file.read().split():\n",
    "        m = w.replace('_', ' ')\n",
    "        m_vocab.append(m)"
   ]
  },
  {
   "cell_type": "code",
   "execution_count": 5,
   "metadata": {},
   "outputs": [],
   "source": [
    "tot_vocab = set(f_vocab + m_vocab)"
   ]
  },
  {
   "cell_type": "code",
   "execution_count": 6,
   "metadata": {},
   "outputs": [
    {
     "data": {
      "text/plain": [
       "409"
      ]
     },
     "execution_count": 6,
     "metadata": {},
     "output_type": "execute_result"
    }
   ],
   "source": [
    "# Note that there are duplicate words for both female and male word lists\n",
    "len(tot_vocab)"
   ]
  },
  {
   "cell_type": "code",
   "execution_count": 7,
   "metadata": {},
   "outputs": [],
   "source": [
    "# Convert the reviews to neutral text ([UNK] for gendered words)\n",
    "neutral_reviews = df['review_text'].apply(pre.preprocess_unk, vocab=tot_vocab)"
   ]
  },
  {
   "cell_type": "code",
   "execution_count": 8,
   "metadata": {},
   "outputs": [
    {
     "data": {
      "text/plain": [
       "0        Working with one of the best Shakespeare sourc...\n",
       "1        Well...tremors I, the original started off in ...\n",
       "2        Ouch! This one was a bit painful to sit throug...\n",
       "3        I've seen some crappy movies in my life, but t...\n",
       "4        \"Carriers\" follows the exploits of two guys an...\n",
       "                               ...                        \n",
       "24995    About a year ago I finally gave up on American...\n",
       "24996    When I saw the elaborate DVD box for this and ...\n",
       "24997    Last November, I had a chance to see this film...\n",
       "24998    Great movie -I loved it. Great editing and use...\n",
       "24999    Enchanted April is a tone poem, an impressioni...\n",
       "Name: review_text, Length: 25000, dtype: object"
      ]
     },
     "execution_count": 8,
     "metadata": {},
     "output_type": "execute_result"
    }
   ],
   "source": [
    "df['review_text']"
   ]
  },
  {
   "cell_type": "code",
   "execution_count": 9,
   "metadata": {},
   "outputs": [
    {
     "data": {
      "text/plain": [
       "0        working with one of the best shakespeare sourc...\n",
       "1        well...tremors i, the original started off in ...\n",
       "2        ouch! this one was a bit painful to sit throug...\n",
       "3        i've seen some crappy movies in my life, but t...\n",
       "4        \"carriers\" follows the exploits of two [UNK] a...\n",
       "                               ...                        \n",
       "24995    about a year ago i finally gave up on american...\n",
       "24996    when i saw the elaborate dvd box for this and ...\n",
       "24997    last november, i had a chance to see this film...\n",
       "24998    great movie -i loved it. great editing and use...\n",
       "24999    enchanted april is a tone poem, an impressioni...\n",
       "Name: review_text, Length: 25000, dtype: object"
      ]
     },
     "execution_count": 9,
     "metadata": {},
     "output_type": "execute_result"
    }
   ],
   "source": [
    "neutral_reviews"
   ]
  },
  {
   "cell_type": "code",
   "execution_count": 10,
   "metadata": {},
   "outputs": [
    {
     "data": {
      "text/plain": [
       "1        well...tremors i, the original started off in ...\n",
       "2        ouch! this one was a bit painful to sit throug...\n",
       "3        i've seen some crappy movies in my life, but t...\n",
       "4        \"carriers\" follows the exploits of two [UNK] a...\n",
       "5        i had been looking forward to seeing this film...\n",
       "                               ...                        \n",
       "24994    eglimata (= crimes) is a story about little cr...\n",
       "24995    about a year ago i finally gave up on american...\n",
       "24996    when i saw the elaborate dvd box for this and ...\n",
       "24997    last november, i had a chance to see this film...\n",
       "24998    great movie -i loved it. great editing and use...\n",
       "Name: review_text, Length: 20869, dtype: object"
      ]
     },
     "execution_count": 10,
     "metadata": {},
     "output_type": "execute_result"
    }
   ],
   "source": [
    "neutral_reviews[neutral_reviews.str.contains('[UNK]')]"
   ]
  },
  {
   "cell_type": "code",
   "execution_count": 11,
   "metadata": {},
   "outputs": [],
   "source": [
    "# Create mappings between male and female word counterparts\n",
    "f_map, m_map = pre.gender_mapping(f_vocab, m_vocab)"
   ]
  },
  {
   "cell_type": "code",
   "execution_count": 12,
   "metadata": {},
   "outputs": [],
   "source": [
    "# Create separate regex objects for male and female vocabs\n",
    "m_regex = re.compile('|'.join(r'\\b%s\\b' %s for s in map(re.escape, m_vocab)))\n",
    "f_regex = re.compile('|'.join(r'\\b%s\\b' %s for s in map(re.escape, f_vocab)))"
   ]
  },
  {
   "cell_type": "code",
   "execution_count": 13,
   "metadata": {},
   "outputs": [],
   "source": [
    "# Convert all text to female gendered words\n",
    "f_reviews = df['review_text'].apply(pre.preprocess_gendered_swap,\n",
    "                                       vocab_map=m_map, regex=m_regex)"
   ]
  },
  {
   "cell_type": "code",
   "execution_count": 14,
   "metadata": {},
   "outputs": [
    {
     "data": {
      "text/plain": [
       "'A young scientist is trying to carry on his dead father\\'s work on limb regeneration.His overbearing mother has convinced him that he murdered his own father and is monitoring his progress for her own evil purposes.A young doctor uses reptilian DNA he extracts from a large creature and when his arm is conveniently ripped off a few minutes later,he injects himself with his formula and grows a new murderous arm...Admittedly the special effects in \"Severed Ties\" are pretty good and grotesque,but the rest of the film is awful.The severed arm is behaving like a snake and kills few people.Big deal.The acting is mediocre and the climax is silly.3 out of 10.'"
      ]
     },
     "execution_count": 14,
     "metadata": {},
     "output_type": "execute_result"
    }
   ],
   "source": [
    "df['review_text'][11]"
   ]
  },
  {
   "cell_type": "code",
   "execution_count": 15,
   "metadata": {},
   "outputs": [
    {
     "data": {
      "text/plain": [
       "'a young scientist is trying to carry on hers dead mother\\'s work on limb regeneration.hers overbearing mother has convinced her that she murdered her own mother and is monitoring hers progress for her own evil purposes.a young doctor uses reptilian dna she extracts from a large creature and when hers arm is conveniently ripped off a few minutes later,she injects herself with hers formula and grows a new murderous arm...admittedly the special effects in \"severed ties\" are pretty good and grotesque,but the rest of the film is awful.the severed arm is behaving like a snake and kills few people.big deal.the acting is mediocre and the climax is silly.3 out of 10.'"
      ]
     },
     "execution_count": 15,
     "metadata": {},
     "output_type": "execute_result"
    }
   ],
   "source": [
    "f_reviews[11]"
   ]
  },
  {
   "cell_type": "code",
   "execution_count": 16,
   "metadata": {},
   "outputs": [],
   "source": [
    "# Convert all text to male gendered words\n",
    "m_reviews = df['review_text'].apply(pre.preprocess_gendered_swap,\n",
    "                                       vocab_map=f_map, regex=f_regex)"
   ]
  },
  {
   "cell_type": "code",
   "execution_count": 17,
   "metadata": {},
   "outputs": [
    {
     "data": {
      "text/plain": [
       "'A young scientist is trying to carry on his dead father\\'s work on limb regeneration.His overbearing mother has convinced him that he murdered his own father and is monitoring his progress for her own evil purposes.A young doctor uses reptilian DNA he extracts from a large creature and when his arm is conveniently ripped off a few minutes later,he injects himself with his formula and grows a new murderous arm...Admittedly the special effects in \"Severed Ties\" are pretty good and grotesque,but the rest of the film is awful.The severed arm is behaving like a snake and kills few people.Big deal.The acting is mediocre and the climax is silly.3 out of 10.'"
      ]
     },
     "execution_count": 17,
     "metadata": {},
     "output_type": "execute_result"
    }
   ],
   "source": [
    "df['review_text'][11]"
   ]
  },
  {
   "cell_type": "code",
   "execution_count": 18,
   "metadata": {},
   "outputs": [
    {
     "data": {
      "text/plain": [
       "'a young scientist is trying to carry on his dead father\\'s work on limb regeneration.his overbearing father has convinced him that he murdered his own father and is monitoring his progress for his own evil purposes.a young doctor uses reptilian dna he extracts from a large creature and when his arm is conveniently ripped off a few minutes later,he injects himself with his formula and grows a new murderous arm...admittedly the special effects in \"severed ties\" are pretty good and grotesque,but the rest of the film is awful.the severed arm is behaving like a snake and kills few people.big deal.the acting is mediocre and the climax is silly.3 out of 10.'"
      ]
     },
     "execution_count": 18,
     "metadata": {},
     "output_type": "execute_result"
    }
   ],
   "source": [
    "m_reviews[11]"
   ]
  },
  {
   "cell_type": "code",
   "execution_count": 19,
   "metadata": {},
   "outputs": [],
   "source": [
    "df['neutral_review_text'] = neutral_reviews\n",
    "df['female_review_text'] = f_reviews\n",
    "df['male_review_text'] = m_reviews"
   ]
  },
  {
   "cell_type": "code",
   "execution_count": 20,
   "metadata": {},
   "outputs": [],
   "source": [
    "cols = df.columns.to_list()\n",
    "label_index = cols.index('label')\n",
    "cols = cols[:label_index] + cols[label_index+1:] + \\\n",
    "        [cols[label_index]]"
   ]
  },
  {
   "cell_type": "code",
   "execution_count": 21,
   "metadata": {},
   "outputs": [],
   "source": [
    "new_df = df[cols]"
   ]
  },
  {
   "cell_type": "code",
   "execution_count": 22,
   "metadata": {},
   "outputs": [
    {
     "name": "stdout",
     "output_type": "stream",
     "text": [
      "A young scientist is trying to carry on his dead father's work on limb regeneration.His overbearing mother has convinced him that he murdered his own father and is monitoring his progress for her own evil purposes.A young doctor uses reptilian DNA he extracts from a large creature and when his arm is conveniently ripped off a few minutes later,he injects himself with his formula and grows a new murderous arm...Admittedly the special effects in \"Severed Ties\" are pretty good and grotesque,but the rest of the film is awful.The severed arm is behaving like a snake and kills few people.Big deal.The acting is mediocre and the climax is silly.3 out of 10. \n",
      "\n",
      "a young scientist is trying to carry on [UNK] dead [UNK]'s work on limb regeneration.[UNK] overbearing [UNK] has convinced [UNK] that [UNK] murdered [UNK] own [UNK] and is monitoring [UNK] progress for [UNK] own evil purposes.a young doctor uses reptilian dna [UNK] extracts from a large creature and when [UNK] arm is conveniently ripped off a few minutes later,[UNK] injects [UNK] with [UNK] formula and grows a new murderous arm...admittedly the special effects in \"severed ties\" are pretty good and grotesque,but the rest of the film is awful.the severed arm is behaving like a snake and kills few people.big deal.the acting is mediocre and the climax is silly.3 out of 10. \n",
      "\n",
      "a young scientist is trying to carry on hers dead mother's work on limb regeneration.hers overbearing mother has convinced her that she murdered her own mother and is monitoring hers progress for her own evil purposes.a young doctor uses reptilian dna she extracts from a large creature and when hers arm is conveniently ripped off a few minutes later,she injects herself with hers formula and grows a new murderous arm...admittedly the special effects in \"severed ties\" are pretty good and grotesque,but the rest of the film is awful.the severed arm is behaving like a snake and kills few people.big deal.the acting is mediocre and the climax is silly.3 out of 10. \n",
      "\n",
      "a young scientist is trying to carry on his dead father's work on limb regeneration.his overbearing father has convinced him that he murdered his own father and is monitoring his progress for his own evil purposes.a young doctor uses reptilian dna he extracts from a large creature and when his arm is conveniently ripped off a few minutes later,he injects himself with his formula and grows a new murderous arm...admittedly the special effects in \"severed ties\" are pretty good and grotesque,but the rest of the film is awful.the severed arm is behaving like a snake and kills few people.big deal.the acting is mediocre and the climax is silly.3 out of 10. \n",
      "\n"
     ]
    }
   ],
   "source": [
    "print(new_df.iloc[11]['review_text'], '\\n')\n",
    "print(new_df.iloc[11]['neutral_review_text'], '\\n')\n",
    "print(new_df.iloc[11]['female_review_text'], '\\n')\n",
    "print(new_df.iloc[11]['male_review_text'], '\\n')"
   ]
  },
  {
   "cell_type": "code",
   "execution_count": 23,
   "metadata": {},
   "outputs": [],
   "source": [
    "new_df.to_csv('./data/processed_train.csv')"
   ]
  },
  {
   "cell_type": "code",
   "execution_count": null,
   "metadata": {},
   "outputs": [],
   "source": []
  }
 ],
 "metadata": {
  "kernelspec": {
   "display_name": "Python 3",
   "language": "python",
   "name": "python3"
  },
  "language_info": {
   "codemirror_mode": {
    "name": "ipython",
    "version": 3
   },
   "file_extension": ".py",
   "mimetype": "text/x-python",
   "name": "python",
   "nbconvert_exporter": "python",
   "pygments_lexer": "ipython3",
   "version": "3.7.7"
  }
 },
 "nbformat": 4,
 "nbformat_minor": 4
}
