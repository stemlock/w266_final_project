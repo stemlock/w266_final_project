{
  "nbformat": 4,
  "nbformat_minor": 0,
  "metadata": {
    "kernelspec": {
      "display_name": "Python 3",
      "language": "python",
      "name": "python3"
    },
    "language_info": {
      "codemirror_mode": {
        "name": "ipython",
        "version": 3
      },
      "file_extension": ".py",
      "mimetype": "text/x-python",
      "name": "python",
      "nbconvert_exporter": "python",
      "pygments_lexer": "ipython3",
      "version": "3.7.7"
    },
    "colab": {
      "name": "Data_Preparation.ipynb",
      "provenance": [],
      "collapsed_sections": [],
      "include_colab_link": true
    }
  },
  "cells": [
    {
      "cell_type": "markdown",
      "metadata": {
        "id": "view-in-github",
        "colab_type": "text"
      },
      "source": [
        "<a href=\"https://colab.research.google.com/github/stemlock/w266_final_project/blob/master/Data_Preparation.ipynb\" target=\"_parent\"><img src=\"https://colab.research.google.com/assets/colab-badge.svg\" alt=\"Open In Colab\"/></a>"
      ]
    },
    {
      "cell_type": "code",
      "metadata": {
        "id": "TabsksoQAc_k",
        "colab": {
          "base_uri": "https://localhost:8080/"
        },
        "outputId": "9cbac666-0b4f-48df-d718-59d14189ecb7"
      },
      "source": [
        "from google.colab import drive\n",
        "drive.mount('/content/drive')\n",
        "CWD = '/content/drive/My Drive/W266 Final Project/Code'\n",
        "\n",
        "%cd $CWD"
      ],
      "execution_count": 1,
      "outputs": [
        {
          "output_type": "stream",
          "name": "stdout",
          "text": [
            "Drive already mounted at /content/drive; to attempt to forcibly remount, call drive.mount(\"/content/drive\", force_remount=True).\n",
            "/content/drive/My Drive/W266 Final Project/Code\n"
          ]
        }
      ]
    },
    {
      "cell_type": "code",
      "metadata": {
        "id": "4TlOLrfYAJWz"
      },
      "source": [
        "import pandas as pd\n",
        "import matplotlib.pyplot as plt"
      ],
      "execution_count": 2,
      "outputs": []
    },
    {
      "cell_type": "code",
      "metadata": {
        "id": "E8-9RJ5FAJW1"
      },
      "source": [
        "# Set random seed\n",
        "seed = 42"
      ],
      "execution_count": 3,
      "outputs": []
    },
    {
      "cell_type": "code",
      "metadata": {
        "id": "SpkCFWsOIYPV"
      },
      "source": [
        "# Set the paths to save the preprocessed train and test data\n",
        "train_path = 'data/preprocessed_train.csv'\n",
        "test_path = 'data/preprocessed_test.csv'"
      ],
      "execution_count": 4,
      "outputs": []
    },
    {
      "cell_type": "code",
      "metadata": {
        "id": "fD-Lsa0qAJW1"
      },
      "source": [
        "# SHOULD NOT BE RUN IN A COLAB NOTEBOOK. IF DATA NEEDS TO BE PREPROCESSED, PLEASE RUN THESE COMMANDS LOCALLY FIRST\n",
        "# # Preprocess data in script to create neutral and gendered versions\n",
        "# !python3 preprocess.py -d 'data/aclImdb/train/' -v 'wordlist/' -o $train_path\n",
        "# !python3 preprocess.py -d 'data/aclImdb/test/' -v 'wordlist/' -o $test_path"
      ],
      "execution_count": null,
      "outputs": []
    },
    {
      "cell_type": "code",
      "metadata": {
        "id": "p7n1eWvPAJW3",
        "colab": {
          "base_uri": "https://localhost:8080/",
          "height": 270
        },
        "outputId": "5ed00c7c-b346-44fc-ec8b-6a207c70b5c9"
      },
      "source": [
        "# Read in processed data (Rows with NA in the neutral_review_text had no tokens replaced)\n",
        "df_train = pd.read_csv(train_path)\n",
        "df_test = pd.read_csv(test_path)\n",
        "df_train.head()"
      ],
      "execution_count": 6,
      "outputs": [
        {
          "output_type": "execute_result",
          "data": {
            "text/html": [
              "<div>\n",
              "<style scoped>\n",
              "    .dataframe tbody tr th:only-of-type {\n",
              "        vertical-align: middle;\n",
              "    }\n",
              "\n",
              "    .dataframe tbody tr th {\n",
              "        vertical-align: top;\n",
              "    }\n",
              "\n",
              "    .dataframe thead th {\n",
              "        text-align: right;\n",
              "    }\n",
              "</style>\n",
              "<table border=\"1\" class=\"dataframe\">\n",
              "  <thead>\n",
              "    <tr style=\"text-align: right;\">\n",
              "      <th></th>\n",
              "      <th>review_id</th>\n",
              "      <th>review_score</th>\n",
              "      <th>review_text</th>\n",
              "      <th>neutral_review_text</th>\n",
              "      <th>neutral_sub_count</th>\n",
              "      <th>female_review_text</th>\n",
              "      <th>female_sub_count</th>\n",
              "      <th>male_review_text</th>\n",
              "      <th>male_sub_count</th>\n",
              "      <th>label</th>\n",
              "    </tr>\n",
              "  </thead>\n",
              "  <tbody>\n",
              "    <tr>\n",
              "      <th>0</th>\n",
              "      <td>4715</td>\n",
              "      <td>9</td>\n",
              "      <td>For a movie that gets no respect there sure ar...</td>\n",
              "      <td>NaN</td>\n",
              "      <td>0</td>\n",
              "      <td>for a movie that gets no respect there sure ar...</td>\n",
              "      <td>0</td>\n",
              "      <td>for a movie that gets no respect there sure ar...</td>\n",
              "      <td>0</td>\n",
              "      <td>1</td>\n",
              "    </tr>\n",
              "    <tr>\n",
              "      <th>1</th>\n",
              "      <td>12390</td>\n",
              "      <td>8</td>\n",
              "      <td>Bizarre horror movie filled with famous faces ...</td>\n",
              "      <td>bizarre horror movie filled with famous faces ...</td>\n",
              "      <td>2</td>\n",
              "      <td>bizarre horror movie filled with famous faces ...</td>\n",
              "      <td>1</td>\n",
              "      <td>bizarre horror movie filled with famous faces ...</td>\n",
              "      <td>1</td>\n",
              "      <td>1</td>\n",
              "    </tr>\n",
              "    <tr>\n",
              "      <th>2</th>\n",
              "      <td>8329</td>\n",
              "      <td>7</td>\n",
              "      <td>A solid, if unremarkable film. Matthau, as Ein...</td>\n",
              "      <td>NaN</td>\n",
              "      <td>0</td>\n",
              "      <td>a solid, if unremarkable film. matthau, as ein...</td>\n",
              "      <td>0</td>\n",
              "      <td>a solid, if unremarkable film. matthau, as ein...</td>\n",
              "      <td>0</td>\n",
              "      <td>1</td>\n",
              "    </tr>\n",
              "    <tr>\n",
              "      <th>3</th>\n",
              "      <td>9063</td>\n",
              "      <td>8</td>\n",
              "      <td>It's a strange feeling to sit alone in a theat...</td>\n",
              "      <td>it's a strange feeling to sit alone in a theat...</td>\n",
              "      <td>13</td>\n",
              "      <td>it's a strange feeling to sit alone in a theat...</td>\n",
              "      <td>12</td>\n",
              "      <td>it's a strange feeling to sit alone in a theat...</td>\n",
              "      <td>1</td>\n",
              "      <td>1</td>\n",
              "    </tr>\n",
              "    <tr>\n",
              "      <th>4</th>\n",
              "      <td>3092</td>\n",
              "      <td>10</td>\n",
              "      <td>You probably all already know this by now, but...</td>\n",
              "      <td>you probably all already know this by now, but...</td>\n",
              "      <td>2</td>\n",
              "      <td>you probably all already know this by now, but...</td>\n",
              "      <td>1</td>\n",
              "      <td>you probably all already know this by now, but...</td>\n",
              "      <td>1</td>\n",
              "      <td>1</td>\n",
              "    </tr>\n",
              "  </tbody>\n",
              "</table>\n",
              "</div>"
            ],
            "text/plain": [
              "   review_id  review_score  ... male_sub_count label\n",
              "0       4715             9  ...              0     1\n",
              "1      12390             8  ...              1     1\n",
              "2       8329             7  ...              0     1\n",
              "3       9063             8  ...              1     1\n",
              "4       3092            10  ...              1     1\n",
              "\n",
              "[5 rows x 10 columns]"
            ]
          },
          "metadata": {},
          "execution_count": 6
        }
      ]
    },
    {
      "cell_type": "code",
      "metadata": {
        "colab": {
          "base_uri": "https://localhost:8080/"
        },
        "id": "PVd5e1Aqck52",
        "outputId": "900e9424-0271-47b6-ae02-3f8ec05e4d67"
      },
      "source": [
        "# # Check that the number of UNK tokens is the same as neutral sub count for train and test\n",
        "# print(\"Train:\", (df_train['neutral_review_text'].str.count('\\[UNK\\]').fillna(0) == df_train['neutral_sub_count']).unique())\n",
        "# print(\"Test:\", (df_test['neutral_review_text'].str.count('\\[UNK\\]').fillna(0) == df_test['neutral_sub_count']).unique())"
      ],
      "execution_count": 22,
      "outputs": [
        {
          "output_type": "stream",
          "name": "stdout",
          "text": [
            "Train: [ True]\n",
            "Test: [ True]\n"
          ]
        }
      ]
    },
    {
      "cell_type": "code",
      "metadata": {
        "colab": {
          "base_uri": "https://localhost:8080/"
        },
        "id": "tYv1Xo25cJ3u",
        "outputId": "d644175e-2b67-4316-fe95-ba3eb9e776c9"
      },
      "source": [
        "# # Check that the male + female sub counts add up to neutral in train\n",
        "# print(\"Train:\", (df_train['neutral_sub_count'] == (df_train['female_sub_count'] + df_train['male_sub_count'])).unique())\n",
        "# print(\"Test:\", (df_test['neutral_sub_count'] == (df_test['female_sub_count'] + df_test['male_sub_count'])).unique())"
      ],
      "execution_count": 24,
      "outputs": [
        {
          "output_type": "stream",
          "name": "stdout",
          "text": [
            "Train: [ True]\n",
            "Test: [ True]\n"
          ]
        }
      ]
    },
    {
      "cell_type": "code",
      "metadata": {
        "id": "Ag_m8fkqAJW3",
        "colab": {
          "base_uri": "https://localhost:8080/"
        },
        "outputId": "b9bbc7a0-c18a-40b8-94a3-69d835e6eaa4"
      },
      "source": [
        "# Check how many reviews had no replacement tokens\n",
        "print(\"Nongendered reviews in train:\", df_train['neutral_review_text'].isna().sum())\n",
        "print(\"Nongendered reviews in test:\", df_test['neutral_review_text'].isna().sum())"
      ],
      "execution_count": 25,
      "outputs": [
        {
          "output_type": "stream",
          "name": "stdout",
          "text": [
            "Nongendered reviews in train: 4058\n",
            "Nongendered reviews in test: 4112\n"
          ]
        }
      ]
    },
    {
      "cell_type": "code",
      "metadata": {
        "id": "IM2Hxm8_AJW4"
      },
      "source": [
        "# Isolate the nongendered reviews \n",
        "df_nongendered = df_train[df_train['neutral_review_text'].isna()]"
      ],
      "execution_count": 26,
      "outputs": []
    },
    {
      "cell_type": "code",
      "metadata": {
        "id": "-Fva2KgOAJW4",
        "colab": {
          "base_uri": "https://localhost:8080/"
        },
        "outputId": "7b6b5b95-7160-4c78-ee1c-04db24466c53"
      },
      "source": [
        "# Check the balance of review scores in the original train set\n",
        "df_train['review_score'].value_counts()/len(df_train['review_score'])"
      ],
      "execution_count": 27,
      "outputs": [
        {
          "output_type": "execute_result",
          "data": {
            "text/plain": [
              "1     0.20400\n",
              "10    0.18928\n",
              "8     0.12036\n",
              "4     0.10784\n",
              "7     0.09984\n",
              "3     0.09680\n",
              "2     0.09136\n",
              "9     0.09052\n",
              "Name: review_score, dtype: float64"
            ]
          },
          "metadata": {},
          "execution_count": 27
        }
      ]
    },
    {
      "cell_type": "code",
      "metadata": {
        "id": "zeUb4vRPAJW5",
        "colab": {
          "base_uri": "https://localhost:8080/"
        },
        "outputId": "693d22c7-f16d-40cc-d8ba-9b875957956b"
      },
      "source": [
        "# Check the balance of review scores in the nongendered reviews\n",
        "df_nongendered['review_score'].value_counts()/len(df_nongendered['review_score'])"
      ],
      "execution_count": 28,
      "outputs": [
        {
          "output_type": "execute_result",
          "data": {
            "text/plain": [
              "1     0.252341\n",
              "10    0.235584\n",
              "8     0.098078\n",
              "9     0.092656\n",
              "2     0.089699\n",
              "4     0.088467\n",
              "3     0.079842\n",
              "7     0.063332\n",
              "Name: review_score, dtype: float64"
            ]
          },
          "metadata": {},
          "execution_count": 28
        }
      ]
    },
    {
      "cell_type": "code",
      "metadata": {
        "id": "yxRIC3wkAJW6",
        "colab": {
          "base_uri": "https://localhost:8080/",
          "height": 281
        },
        "outputId": "eb799c47-cca5-45df-cdb8-bb78d0895743"
      },
      "source": [
        "# Check the distribution of the review scores in train\n",
        "df_train.hist(column='review_score')\n",
        "plt.title(\"Histogram of review scores in train dataset\")\n",
        "plt.show()"
      ],
      "execution_count": 29,
      "outputs": [
        {
          "output_type": "display_data",
          "data": {
            "image/png": "[encoded data removed]",
            "text/plain": [
              "<Figure size 432x288 with 1 Axes>"
            ]
          },
          "metadata": {
            "needs_background": "light"
          }
        }
      ]
    },
    {
      "cell_type": "code",
      "metadata": {
        "id": "UeAMSGpcAJW6",
        "colab": {
          "base_uri": "https://localhost:8080/",
          "height": 281
        },
        "outputId": "09d036dd-d270-4928-ec92-41964b3f681c"
      },
      "source": [
        "# Check the distribution of the review scores in nongendered reviews\n",
        "df_nongendered.hist(column='review_score')\n",
        "plt.title(\"Histogram of review scores in nongendered subset\")\n",
        "plt.show()"
      ],
      "execution_count": 30,
      "outputs": [
        {
          "output_type": "display_data",
          "data": {
            "image/png": "[encoded data removed]",
            "text/plain": [
              "<Figure size 432x288 with 1 Axes>"
            ]
          },
          "metadata": {
            "needs_background": "light"
          }
        }
      ]
    },
    {
      "cell_type": "code",
      "metadata": {
        "id": "MI1oN8vAAJW6",
        "colab": {
          "base_uri": "https://localhost:8080/"
        },
        "outputId": "95cc5ab8-c5d9-4dd0-ab05-009c711eeecf"
      },
      "source": [
        "# Drop all nongendered rows in train by checking the neutral_review_text column\n",
        "df_train.dropna(inplace=True)\n",
        "print(\"Number of rows left in train:\", df_train.shape[0])\n",
        "print(\"Class balance:\")\n",
        "print(df_train['label'].value_counts())\n",
        "print(df_train['label'].value_counts()/df_train.shape[0])"
      ],
      "execution_count": 31,
      "outputs": [
        {
          "output_type": "stream",
          "name": "stdout",
          "text": [
            "Number of rows left in train: 20942\n",
            "Class balance:\n",
            "1    10513\n",
            "0    10429\n",
            "Name: label, dtype: int64\n",
            "1    0.502006\n",
            "0    0.497994\n",
            "Name: label, dtype: float64\n"
          ]
        }
      ]
    },
    {
      "cell_type": "code",
      "metadata": {
        "id": "3NZNTP4OAJW7",
        "colab": {
          "base_uri": "https://localhost:8080/"
        },
        "outputId": "79f32a60-44f1-4ace-e5dc-c94ab7f4ca7a"
      },
      "source": [
        "# Drop all nongendered rows in test by checking the neutral_review_text column\n",
        "df_test.dropna(inplace=True)\n",
        "print(\"Number of rows left in test:\", df_test.shape[0])\n",
        "print(\"Class balance:\")\n",
        "print(df_test['label'].value_counts())\n",
        "print(df_test['label'].value_counts()/df_test.shape[0])"
      ],
      "execution_count": 32,
      "outputs": [
        {
          "output_type": "stream",
          "name": "stdout",
          "text": [
            "Number of rows left in test: 20888\n",
            "Class balance:\n",
            "0    10501\n",
            "1    10387\n",
            "Name: label, dtype: int64\n",
            "0    0.502729\n",
            "1    0.497271\n",
            "Name: label, dtype: float64\n"
          ]
        }
      ]
    },
    {
      "cell_type": "code",
      "metadata": {
        "colab": {
          "base_uri": "https://localhost:8080/",
          "height": 585
        },
        "id": "94Z7B1Bw8uPy",
        "outputId": "db218cc4-85c5-4347-c3e6-6a4e145022f2"
      },
      "source": [
        "# Perform stratified sample on both test and train to get new train and test split data\n",
        "split_frac = 0.8\n",
        "df_all = pd.concat([df_test,df_train], ignore_index=True)\n",
        "df_train_new = df_all.groupby('review_score', group_keys=False).apply(lambda x: x.sample(frac=split_frac, random_state=seed))\n",
        "df_test_new = df_all[~df_all.index.isin(df_train_new.index)]\n",
        "df_train_new"
      ],
      "execution_count": 33,
      "outputs": [
        {
          "output_type": "execute_result",
          "data": {
            "text/html": [
              "<div>\n",
              "<style scoped>\n",
              "    .dataframe tbody tr th:only-of-type {\n",
              "        vertical-align: middle;\n",
              "    }\n",
              "\n",
              "    .dataframe tbody tr th {\n",
              "        vertical-align: top;\n",
              "    }\n",
              "\n",
              "    .dataframe thead th {\n",
              "        text-align: right;\n",
              "    }\n",
              "</style>\n",
              "<table border=\"1\" class=\"dataframe\">\n",
              "  <thead>\n",
              "    <tr style=\"text-align: right;\">\n",
              "      <th></th>\n",
              "      <th>review_id</th>\n",
              "      <th>review_score</th>\n",
              "      <th>review_text</th>\n",
              "      <th>neutral_review_text</th>\n",
              "      <th>neutral_sub_count</th>\n",
              "      <th>female_review_text</th>\n",
              "      <th>female_sub_count</th>\n",
              "      <th>male_review_text</th>\n",
              "      <th>male_sub_count</th>\n",
              "      <th>label</th>\n",
              "    </tr>\n",
              "  </thead>\n",
              "  <tbody>\n",
              "    <tr>\n",
              "      <th>41211</th>\n",
              "      <td>6990</td>\n",
              "      <td>1</td>\n",
              "      <td>What the hell is this? Its one of the dumbest ...</td>\n",
              "      <td>what the hell is this? its one of the dumbest ...</td>\n",
              "      <td>1</td>\n",
              "      <td>what the hell is this? its one of the dumbest ...</td>\n",
              "      <td>1</td>\n",
              "      <td>what the hell is this? its one of the dumbest ...</td>\n",
              "      <td>0</td>\n",
              "      <td>0</td>\n",
              "    </tr>\n",
              "    <tr>\n",
              "      <th>34899</th>\n",
              "      <td>12145</td>\n",
              "      <td>1</td>\n",
              "      <td>As you may have gathered from the title, I who...</td>\n",
              "      <td>as you may have gathered from the title, i who...</td>\n",
              "      <td>8</td>\n",
              "      <td>as you may have gathered from the title, i who...</td>\n",
              "      <td>7</td>\n",
              "      <td>as you may have gathered from the title, i who...</td>\n",
              "      <td>1</td>\n",
              "      <td>0</td>\n",
              "    </tr>\n",
              "    <tr>\n",
              "      <th>14084</th>\n",
              "      <td>7457</td>\n",
              "      <td>1</td>\n",
              "      <td>This Canadian \"movie\" is the worst ever! Stunn...</td>\n",
              "      <td>this canadian \"movie\" is the worst ever! stunn...</td>\n",
              "      <td>7</td>\n",
              "      <td>this canadian \"movie\" is the worst ever! stunn...</td>\n",
              "      <td>5</td>\n",
              "      <td>this canadian \"movie\" is the worst ever! stunn...</td>\n",
              "      <td>2</td>\n",
              "      <td>0</td>\n",
              "    </tr>\n",
              "    <tr>\n",
              "      <th>34596</th>\n",
              "      <td>7324</td>\n",
              "      <td>1</td>\n",
              "      <td>Being a Film studies graduate I would like to ...</td>\n",
              "      <td>being a film studies graduate i would like to ...</td>\n",
              "      <td>2</td>\n",
              "      <td>being a film studies graduate i would like to ...</td>\n",
              "      <td>1</td>\n",
              "      <td>being a film studies graduate i would like to ...</td>\n",
              "      <td>1</td>\n",
              "      <td>0</td>\n",
              "    </tr>\n",
              "    <tr>\n",
              "      <th>41142</th>\n",
              "      <td>7089</td>\n",
              "      <td>1</td>\n",
              "      <td>A sexually obsessed chef leads a duplicitous l...</td>\n",
              "      <td>a sexually obsessed chef leads a duplicitous l...</td>\n",
              "      <td>7</td>\n",
              "      <td>a sexually obsessed chef leads a duplicitous l...</td>\n",
              "      <td>4</td>\n",
              "      <td>a sexually obsessed chef leads a duplicitous l...</td>\n",
              "      <td>3</td>\n",
              "      <td>0</td>\n",
              "    </tr>\n",
              "    <tr>\n",
              "      <th>...</th>\n",
              "      <td>...</td>\n",
              "      <td>...</td>\n",
              "      <td>...</td>\n",
              "      <td>...</td>\n",
              "      <td>...</td>\n",
              "      <td>...</td>\n",
              "      <td>...</td>\n",
              "      <td>...</td>\n",
              "      <td>...</td>\n",
              "      <td>...</td>\n",
              "    </tr>\n",
              "    <tr>\n",
              "      <th>22892</th>\n",
              "      <td>2130</td>\n",
              "      <td>10</td>\n",
              "      <td>A wonderful film, filled with great understate...</td>\n",
              "      <td>a wonderful film, filled with great understate...</td>\n",
              "      <td>3</td>\n",
              "      <td>a wonderful film, filled with great understate...</td>\n",
              "      <td>2</td>\n",
              "      <td>a wonderful film, filled with great understate...</td>\n",
              "      <td>1</td>\n",
              "      <td>1</td>\n",
              "    </tr>\n",
              "    <tr>\n",
              "      <th>24852</th>\n",
              "      <td>4521</td>\n",
              "      <td>10</td>\n",
              "      <td>Julie Waters is always marvelous but Adrian Pa...</td>\n",
              "      <td>julie waters is always marvelous but adrian pa...</td>\n",
              "      <td>3</td>\n",
              "      <td>julie waters is always marvelous but adrian pa...</td>\n",
              "      <td>3</td>\n",
              "      <td>julie waters is always marvelous but adrian pa...</td>\n",
              "      <td>0</td>\n",
              "      <td>1</td>\n",
              "    </tr>\n",
              "    <tr>\n",
              "      <th>3641</th>\n",
              "      <td>805</td>\n",
              "      <td>10</td>\n",
              "      <td>This is an absolutely true and faithful adapta...</td>\n",
              "      <td>this is an absolutely true and faithful adapta...</td>\n",
              "      <td>7</td>\n",
              "      <td>this is an absolutely true and faithful adapta...</td>\n",
              "      <td>3</td>\n",
              "      <td>this is an absolutely true and faithful adapta...</td>\n",
              "      <td>4</td>\n",
              "      <td>1</td>\n",
              "    </tr>\n",
              "    <tr>\n",
              "      <th>30063</th>\n",
              "      <td>10849</td>\n",
              "      <td>10</td>\n",
              "      <td>This is perhaps the best rockumentary ever- a ...</td>\n",
              "      <td>this is perhaps the best rockumentary ever- a ...</td>\n",
              "      <td>1</td>\n",
              "      <td>this is perhaps the best rockumentary ever- a ...</td>\n",
              "      <td>0</td>\n",
              "      <td>this is perhaps the best rockumentary ever- a ...</td>\n",
              "      <td>1</td>\n",
              "      <td>1</td>\n",
              "    </tr>\n",
              "    <tr>\n",
              "      <th>29254</th>\n",
              "      <td>6024</td>\n",
              "      <td>10</td>\n",
              "      <td>I saw ZP when it was first released and found ...</td>\n",
              "      <td>i saw zp when it was first released and found ...</td>\n",
              "      <td>6</td>\n",
              "      <td>i saw zp when it was first released and found ...</td>\n",
              "      <td>1</td>\n",
              "      <td>i saw zp when it was first released and found ...</td>\n",
              "      <td>5</td>\n",
              "      <td>1</td>\n",
              "    </tr>\n",
              "  </tbody>\n",
              "</table>\n",
              "<p>33464 rows × 10 columns</p>\n",
              "</div>"
            ],
            "text/plain": [
              "       review_id  review_score  ... male_sub_count label\n",
              "41211       6990             1  ...              0     0\n",
              "34899      12145             1  ...              1     0\n",
              "14084       7457             1  ...              2     0\n",
              "34596       7324             1  ...              1     0\n",
              "41142       7089             1  ...              3     0\n",
              "...          ...           ...  ...            ...   ...\n",
              "22892       2130            10  ...              1     1\n",
              "24852       4521            10  ...              0     1\n",
              "3641         805            10  ...              4     1\n",
              "30063      10849            10  ...              1     1\n",
              "29254       6024            10  ...              5     1\n",
              "\n",
              "[33464 rows x 10 columns]"
            ]
          },
          "metadata": {},
          "execution_count": 33
        }
      ]
    },
    {
      "cell_type": "code",
      "metadata": {
        "colab": {
          "base_uri": "https://localhost:8080/"
        },
        "id": "k2txezC4CKp2",
        "outputId": "5065cfa1-46c1-4863-ba59-e3213f72c32e"
      },
      "source": [
        "# Check that train/test split does not have any spillover\n",
        "print(\"Check if length of all rows equals train + test rows:\", (len(df_train_new) + len(df_test_new)) == len(df_all))\n",
        "print(\"Check if there are any overlapping data:\", len(set(df_test_new.index) & set(df_train_new.index)))\n",
        "print(f\"Check train, test split ratio: {len(df_train_new)/len(df_all)}, {len(df_test_new)/len(df_all)}\" )"
      ],
      "execution_count": 34,
      "outputs": [
        {
          "output_type": "stream",
          "name": "stdout",
          "text": [
            "Check if length of all rows equals train + test rows: True\n",
            "Check if there are any overlapping data: 0\n",
            "Check train, test split ratio: 0.8, 0.2\n"
          ]
        }
      ]
    },
    {
      "cell_type": "code",
      "metadata": {
        "colab": {
          "base_uri": "https://localhost:8080/",
          "height": 314
        },
        "id": "C-yS9yyY-H6X",
        "outputId": "df4b84ab-03bb-4a60-9fb9-65a47ae85ef4"
      },
      "source": [
        "# Original distribution\n",
        "df_all.hist(column='review_score')"
      ],
      "execution_count": 35,
      "outputs": [
        {
          "output_type": "execute_result",
          "data": {
            "text/plain": [
              "array([[<matplotlib.axes._subplots.AxesSubplot object at 0x7f82ffeb3310>]],\n",
              "      dtype=object)"
            ]
          },
          "metadata": {},
          "execution_count": 35
        },
        {
          "output_type": "display_data",
          "data": {
            "image/png": "[encoded data removed]",
            "text/plain": [
              "<Figure size 432x288 with 1 Axes>"
            ]
          },
          "metadata": {
            "needs_background": "light"
          }
        }
      ]
    },
    {
      "cell_type": "code",
      "metadata": {
        "colab": {
          "base_uri": "https://localhost:8080/",
          "height": 314
        },
        "id": "aiOi80s-9gTo",
        "outputId": "c5c44ab6-78ec-4b04-a997-9c22bad9ea17"
      },
      "source": [
        "# New train distribution\n",
        "df_train_new.hist(column='review_score')"
      ],
      "execution_count": 36,
      "outputs": [
        {
          "output_type": "execute_result",
          "data": {
            "text/plain": [
              "array([[<matplotlib.axes._subplots.AxesSubplot object at 0x7f82ff88ec50>]],\n",
              "      dtype=object)"
            ]
          },
          "metadata": {},
          "execution_count": 36
        },
        {
          "output_type": "display_data",
          "data": {
            "image/png": "[encoded data removed]",
            "text/plain": [
              "<Figure size 432x288 with 1 Axes>"
            ]
          },
          "metadata": {
            "needs_background": "light"
          }
        }
      ]
    },
    {
      "cell_type": "code",
      "metadata": {
        "colab": {
          "base_uri": "https://localhost:8080/",
          "height": 314
        },
        "id": "HuheizHRDcOM",
        "outputId": "95b4238d-995b-483d-bba4-4b1e630bb9b8"
      },
      "source": [
        "# New test distribution\n",
        "df_test_new.hist(column='review_score')"
      ],
      "execution_count": 37,
      "outputs": [
        {
          "output_type": "execute_result",
          "data": {
            "text/plain": [
              "array([[<matplotlib.axes._subplots.AxesSubplot object at 0x7f82ff7d3390>]],\n",
              "      dtype=object)"
            ]
          },
          "metadata": {},
          "execution_count": 37
        },
        {
          "output_type": "display_data",
          "data": {
            "image/png": "[encoded data removed]",
            "text/plain": [
              "<Figure size 432x288 with 1 Axes>"
            ]
          },
          "metadata": {
            "needs_background": "light"
          }
        }
      ]
    },
    {
      "cell_type": "code",
      "metadata": {
        "id": "gfdMqMRfEghr"
      },
      "source": [
        "# Save the newly transformed data \n",
        "df_train_new.to_csv('data/model_train.csv', index=False)\n",
        "df_test_new.to_csv('data/model_test.csv', index=False)"
      ],
      "execution_count": 38,
      "outputs": []
    }
  ]
}